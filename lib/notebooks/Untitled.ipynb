{
 "cells": [
  {
   "cell_type": "code",
   "execution_count": null,
   "metadata": {},
   "outputs": [],
   "source": [
    "from ej.all import *\n",
    "from boogie.models.wordcloud import word_cloud"
   ]
  },
  {
   "cell_type": "code",
   "execution_count": null,
   "metadata": {},
   "outputs": [],
   "source": [
    "qs = clusterization.clusters.all()\n",
    "qs"
   ]
  },
  {
   "cell_type": "code",
   "execution_count": null,
   "metadata": {},
   "outputs": [],
   "source": [
    "import numpy as np"
   ]
  },
  {
   "cell_type": "code",
   "execution_count": null,
   "metadata": {},
   "outputs": [],
   "source": [
    "c = clusterizations.first()\n",
    "qs = c.clusters.all()\n",
    "\n",
    "\n",
    "# qs.values_list('users', 'id').dataframe()\n",
    "conversations = qs.values_list('clusterization__conversation').distinct()\n",
    "votes = (Vote.objects\n",
    " .filter(comment__conversation__in=conversations)\n",
    " .pivot_table('author', 'comment', 'choice', fill_value=0))\n",
    "\n",
    "votes['cluster'] = qs.dataframe('id', index='users')\n",
    "centroids = votes.groupby('cluster').mean()\n",
    "groups = votes.groupby('cluster')\n",
    "groups = {k: groups.get_group(k).drop(columns='cluster') for k in groups.groups}\n",
    "\n",
    "raw = votes.drop(columns='cluster')\n",
    "x = raw.values[0]\n",
    "def second_closest(x):\n",
    "    distances = ((x - centroids)**2).sum(axis=1)\n",
    "    idx = distances.values.argsort()[1]\n",
    "    cluster_idx = centroids.index[idx]\n",
    "    return pd.Series([cluster_idx, distances.loc[cluster_idx]], index=('cluster', 'distance'))\n",
    "    \n",
    "distances = votes.drop(columns='cluster').aggregate(second_closest, axis=1)\n",
    "g = distances.groupby('cluster')\n",
    "g.agg(['min', 'idxmin'])"
   ]
  },
  {
   "cell_type": "code",
   "execution_count": null,
   "metadata": {},
   "outputs": [],
   "source": [
    "from django.test import RequestFactory\n",
    "\n",
    "rf = RequestFactory()\n",
    "r = rf.get('/home/')\n",
    "r.path"
   ]
  },
  {
   "cell_type": "code",
   "execution_count": null,
   "metadata": {},
   "outputs": [],
   "source": [
    "r = client.request"
   ]
  },
  {
   "cell_type": "code",
   "execution_count": 161,
   "metadata": {},
   "outputs": [],
   "source": [
    "g.aggregate?"
   ]
  },
  {
   "cell_type": "code",
   "execution_count": 3,
   "metadata": {},
   "outputs": [],
   "source": [
    "votes = conversation.comments.votes().dataframe('author', 'comment', 'choice')"
   ]
  },
  {
   "cell_type": "code",
   "execution_count": 3,
   "metadata": {},
   "outputs": [],
   "source": [
    "group = votes.groupby(['comment', 'choice'])\n",
    "df = group.count()\n",
    "extra = df.index.to_frame()\n",
    "df['comment'] = extra['comment']\n",
    "df['choice'] = extra['choice']\n",
    "df.index = df.reindex()\n",
    "table = df.pivot_table(index='comment', columns='choice', values='author', fill_value=0)"
   ]
  },
  {
   "cell_type": "code",
   "execution_count": 4,
   "metadata": {},
   "outputs": [],
   "source": [
    "total = table.sum(axis=1)\n",
    "table_pc = pd.DataFrame(100 * table.values / total.values[:, None], columns=table.columns, index=table.index)"
   ]
  },
  {
   "cell_type": "code",
   "execution_count": 5,
   "metadata": {},
   "outputs": [
    {
     "data": {
      "text/html": [
       "<div>\n",
       "<style scoped>\n",
       "    .dataframe tbody tr th:only-of-type {\n",
       "        vertical-align: middle;\n",
       "    }\n",
       "\n",
       "    .dataframe tbody tr th {\n",
       "        vertical-align: top;\n",
       "    }\n",
       "\n",
       "    .dataframe thead th {\n",
       "        text-align: right;\n",
       "    }\n",
       "</style>\n",
       "<table border=\"1\" class=\"dataframe\">\n",
       "  <thead>\n",
       "    <tr style=\"text-align: right;\">\n",
       "      <th>choice</th>\n",
       "      <th>-1</th>\n",
       "      <th>0</th>\n",
       "      <th>1</th>\n",
       "    </tr>\n",
       "    <tr>\n",
       "      <th>comment</th>\n",
       "      <th></th>\n",
       "      <th></th>\n",
       "      <th></th>\n",
       "    </tr>\n",
       "  </thead>\n",
       "  <tbody>\n",
       "    <tr>\n",
       "      <th>1</th>\n",
       "      <td>97.44</td>\n",
       "      <td>2.56</td>\n",
       "      <td>0.00</td>\n",
       "    </tr>\n",
       "    <tr>\n",
       "      <th>2</th>\n",
       "      <td>36.36</td>\n",
       "      <td>54.55</td>\n",
       "      <td>9.09</td>\n",
       "    </tr>\n",
       "    <tr>\n",
       "      <th>3</th>\n",
       "      <td>28.57</td>\n",
       "      <td>71.43</td>\n",
       "      <td>0.00</td>\n",
       "    </tr>\n",
       "    <tr>\n",
       "      <th>4</th>\n",
       "      <td>69.23</td>\n",
       "      <td>1.92</td>\n",
       "      <td>28.85</td>\n",
       "    </tr>\n",
       "    <tr>\n",
       "      <th>5</th>\n",
       "      <td>54.55</td>\n",
       "      <td>27.27</td>\n",
       "      <td>18.18</td>\n",
       "    </tr>\n",
       "    <tr>\n",
       "      <th>6</th>\n",
       "      <td>65.79</td>\n",
       "      <td>5.26</td>\n",
       "      <td>28.95</td>\n",
       "    </tr>\n",
       "  </tbody>\n",
       "</table>\n",
       "</div>"
      ],
      "text/plain": [
       "choice      -1      0      1\n",
       "comment                     \n",
       "1        97.44   2.56   0.00\n",
       "2        36.36  54.55   9.09\n",
       "3        28.57  71.43   0.00\n",
       "4        69.23   1.92  28.85\n",
       "5        54.55  27.27  18.18\n",
       "6        65.79   5.26  28.95"
      ]
     },
     "execution_count": 5,
     "metadata": {},
     "output_type": "execute_result"
    }
   ],
   "source": [
    "table_pc.applymap(lambda x: round(x, 2))"
   ]
  },
  {
   "cell_type": "code",
   "execution_count": 6,
   "metadata": {},
   "outputs": [
    {
     "data": {
      "text/html": [
       "<div>\n",
       "<style scoped>\n",
       "    .dataframe tbody tr th:only-of-type {\n",
       "        vertical-align: middle;\n",
       "    }\n",
       "\n",
       "    .dataframe tbody tr th {\n",
       "        vertical-align: top;\n",
       "    }\n",
       "\n",
       "    .dataframe thead th {\n",
       "        text-align: right;\n",
       "    }\n",
       "</style>\n",
       "<table border=\"1\" class=\"dataframe\">\n",
       "  <thead>\n",
       "    <tr style=\"text-align: right;\">\n",
       "      <th>choice</th>\n",
       "      <th>-1</th>\n",
       "      <th>0</th>\n",
       "      <th>1</th>\n",
       "    </tr>\n",
       "    <tr>\n",
       "      <th>comment</th>\n",
       "      <th></th>\n",
       "      <th></th>\n",
       "      <th></th>\n",
       "    </tr>\n",
       "  </thead>\n",
       "  <tbody>\n",
       "    <tr>\n",
       "      <th>1</th>\n",
       "      <td>97.4</td>\n",
       "      <td>2.6</td>\n",
       "      <td>0.0</td>\n",
       "    </tr>\n",
       "    <tr>\n",
       "      <th>2</th>\n",
       "      <td>36.4</td>\n",
       "      <td>54.5</td>\n",
       "      <td>9.1</td>\n",
       "    </tr>\n",
       "    <tr>\n",
       "      <th>3</th>\n",
       "      <td>28.6</td>\n",
       "      <td>71.4</td>\n",
       "      <td>0.0</td>\n",
       "    </tr>\n",
       "    <tr>\n",
       "      <th>4</th>\n",
       "      <td>69.2</td>\n",
       "      <td>1.9</td>\n",
       "      <td>28.8</td>\n",
       "    </tr>\n",
       "    <tr>\n",
       "      <th>5</th>\n",
       "      <td>54.5</td>\n",
       "      <td>27.3</td>\n",
       "      <td>18.2</td>\n",
       "    </tr>\n",
       "    <tr>\n",
       "      <th>6</th>\n",
       "      <td>65.8</td>\n",
       "      <td>5.3</td>\n",
       "      <td>28.9</td>\n",
       "    </tr>\n",
       "  </tbody>\n",
       "</table>\n",
       "</div>"
      ],
      "text/plain": [
       "choice     -1     0     1\n",
       "comment                  \n",
       "1        97.4   2.6   0.0\n",
       "2        36.4  54.5   9.1\n",
       "3        28.6  71.4   0.0\n",
       "4        69.2   1.9  28.8\n",
       "5        54.5  27.3  18.2\n",
       "6        65.8   5.3  28.9"
      ]
     },
     "execution_count": 6,
     "metadata": {},
     "output_type": "execute_result"
    }
   ],
   "source": [
    "table_pc.round(1)"
   ]
  },
  {
   "cell_type": "code",
   "execution_count": 7,
   "metadata": {},
   "outputs": [
    {
     "data": {
      "text/plain": [
       "comment\n",
       "1    38\n",
       "2    12\n",
       "3     4\n",
       "4    36\n",
       "5    18\n",
       "6    25\n",
       "Name: -1, dtype: int64"
      ]
     },
     "execution_count": 7,
     "metadata": {},
     "output_type": "execute_result"
    }
   ],
   "source": [
    "table[-1]"
   ]
  },
  {
   "cell_type": "code",
   "execution_count": 8,
   "metadata": {},
   "outputs": [],
   "source": [
    "table[2] = 0"
   ]
  },
  {
   "cell_type": "code",
   "execution_count": 9,
   "metadata": {},
   "outputs": [
    {
     "data": {
      "text/html": [
       "<div>\n",
       "<style scoped>\n",
       "    .dataframe tbody tr th:only-of-type {\n",
       "        vertical-align: middle;\n",
       "    }\n",
       "\n",
       "    .dataframe tbody tr th {\n",
       "        vertical-align: top;\n",
       "    }\n",
       "\n",
       "    .dataframe thead th {\n",
       "        text-align: right;\n",
       "    }\n",
       "</style>\n",
       "<table border=\"1\" class=\"dataframe\">\n",
       "  <thead>\n",
       "    <tr style=\"text-align: right;\">\n",
       "      <th>choice</th>\n",
       "      <th>-1</th>\n",
       "      <th>0</th>\n",
       "      <th>1</th>\n",
       "      <th>2</th>\n",
       "    </tr>\n",
       "    <tr>\n",
       "      <th>comment</th>\n",
       "      <th></th>\n",
       "      <th></th>\n",
       "      <th></th>\n",
       "      <th></th>\n",
       "    </tr>\n",
       "  </thead>\n",
       "  <tbody>\n",
       "    <tr>\n",
       "      <th>1</th>\n",
       "      <td>38</td>\n",
       "      <td>1</td>\n",
       "      <td>0</td>\n",
       "      <td>0</td>\n",
       "    </tr>\n",
       "    <tr>\n",
       "      <th>2</th>\n",
       "      <td>12</td>\n",
       "      <td>18</td>\n",
       "      <td>3</td>\n",
       "      <td>0</td>\n",
       "    </tr>\n",
       "    <tr>\n",
       "      <th>3</th>\n",
       "      <td>4</td>\n",
       "      <td>10</td>\n",
       "      <td>0</td>\n",
       "      <td>0</td>\n",
       "    </tr>\n",
       "    <tr>\n",
       "      <th>4</th>\n",
       "      <td>36</td>\n",
       "      <td>1</td>\n",
       "      <td>15</td>\n",
       "      <td>0</td>\n",
       "    </tr>\n",
       "    <tr>\n",
       "      <th>5</th>\n",
       "      <td>18</td>\n",
       "      <td>9</td>\n",
       "      <td>6</td>\n",
       "      <td>0</td>\n",
       "    </tr>\n",
       "    <tr>\n",
       "      <th>6</th>\n",
       "      <td>25</td>\n",
       "      <td>2</td>\n",
       "      <td>11</td>\n",
       "      <td>0</td>\n",
       "    </tr>\n",
       "  </tbody>\n",
       "</table>\n",
       "</div>"
      ],
      "text/plain": [
       "choice   -1   0   1   2\n",
       "comment                \n",
       "1        38   1   0   0\n",
       "2        12  18   3   0\n",
       "3         4  10   0   0\n",
       "4        36   1  15   0\n",
       "5        18   9   6   0\n",
       "6        25   2  11   0"
      ]
     },
     "execution_count": 9,
     "metadata": {},
     "output_type": "execute_result"
    }
   ],
   "source": [
    "table"
   ]
  },
  {
   "cell_type": "code",
   "execution_count": 11,
   "metadata": {
    "hideCode": true,
    "hideOutput": true
   },
   "outputs": [
    {
     "data": {
      "text/plain": [
       "54"
      ]
     },
     "execution_count": 11,
     "metadata": {},
     "output_type": "execute_result"
    }
   ],
   "source": []
  },
  {
   "cell_type": "code",
   "execution_count": 9,
   "metadata": {},
   "outputs": [
    {
     "name": "stdout",
     "output_type": "stream",
     "text": [
      "  5           0 SETUP_EXCEPT            14 (to 16)\n",
      "\n",
      "  6           2 LOAD_GLOBAL              0 (cos)\n",
      "              4 LOAD_FAST                0 (x)\n",
      "              6 LOAD_GLOBAL              1 (y)\n",
      "              8 LOAD_GLOBAL              2 (z)\n",
      "             10 LOAD_GLOBAL              3 (h)\n",
      "             12 CALL_FUNCTION            4\n",
      "             14 RETURN_VALUE\n",
      "\n",
      "  7     >>   16 POP_TOP\n",
      "             18 POP_TOP\n",
      "             20 POP_TOP\n",
      "\n",
      "  8          22 LOAD_GLOBAL              4 (Foo)\n",
      "             24 LOAD_CONST               1 (1)\n",
      "             26 CALL_FUNCTION            1\n",
      "             28 RAISE_VARARGS            1\n",
      "\n",
      "  9          30 LOAD_CONST               1 (1)\n",
      "             32 RETURN_VALUE\n",
      "             34 LOAD_CONST               0 (None)\n",
      "             36 RETURN_VALUE\n"
     ]
    }
   ],
   "source": [
    "import dis\n",
    "\n",
    "@dis.dis\n",
    "def foo(x):\n",
    "    try:\n",
    "        return cos(x, y, z, h)\n",
    "    except:\n",
    "        raise\n",
    "        return 1"
   ]
  },
  {
   "cell_type": "code",
   "execution_count": 13,
   "metadata": {},
   "outputs": [
    {
     "data": {
      "text/plain": [
       "{'agree': 35, 'disagree': 133, 'skip': 41, 'total': 209}"
      ]
     },
     "execution_count": 13,
     "metadata": {},
     "output_type": "execute_result"
    }
   ],
   "source": [
    "v.aggregate(agree=Count('choice', filter=Q(choice=1)), \n",
    "            disagree=Count('choice', filter=Q(choice=-1)), \n",
    "            skip=Count('choice', filter=Q(choice=0)), \n",
    "            total=Count('choice'), \n",
    "           )"
   ]
  }
 ],
 "metadata": {
  "kernelspec": {
   "display_name": "Python 3",
   "language": "python",
   "name": "python3"
  },
  "language_info": {
   "codemirror_mode": {
    "name": "ipython",
    "version": 3
   },
   "file_extension": ".py",
   "mimetype": "text/x-python",
   "name": "python",
   "nbconvert_exporter": "python",
   "pygments_lexer": "ipython3",
   "version": "3.6.6"
  }
 },
 "nbformat": 4,
 "nbformat_minor": 2
}
